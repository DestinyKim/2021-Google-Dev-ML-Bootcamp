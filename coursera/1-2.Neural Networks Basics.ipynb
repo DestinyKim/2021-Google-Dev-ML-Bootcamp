{
 "cells": [
  {
   "cell_type": "markdown",
   "metadata": {},
   "source": [
    "### Binary Classification"
   ]
  },
  {
   "cell_type": "markdown",
   "metadata": {},
   "source": [
    "![](https://i.imgur.com/k9UzJm7.png)"
   ]
  },
  {
   "cell_type": "markdown",
   "metadata": {},
   "source": [
    "* Logistic Regression은 Classification에서 많이 사용.\n",
    "* 위의 사진은 고양이 사진인지 분류하는 Binary Classification 문제임.\n",
    "  사진은 64*64*3 픽셀로 이루어짐. 이 모든 픽셀 값들을 이용하여 Logistic Regression(LR) 모델을 만들기 위해 Input 데이터의 Shape은 열벡터이어야 하고, 따라서, 픽셀값들을 다 곱하여 수평으로 나열한다. 이렇게 만든 X는 12288차원의 열벡터가 되고, 이를 입력하여 LR을 통해 Y를 출력한다."
   ]
  },
  {
   "cell_type": "markdown",
   "metadata": {},
   "source": [
    "![](https://i.imgur.com/4NiRs5j.png)"
   ]
  },
  {
   "cell_type": "markdown",
   "metadata": {},
   "source": [
    "* 입력값 X는 nx차원의 열벡터이고, y는 1 또는 0(고양이라면 1, 아니면 0)으로 표현.  \n",
    "    * m개의 training example이 있으므로 m개의 (x(i), y(i)) 데이터가 존재.\n",
    "    * X는 m개의 x(i)를 수평으로 묶은 벡터, 따라서, X는 nx*b(nx, b)의 shape을 가짐\n",
    "    * Y는 m개의 y(i)를 수평으로 묶은 행벡터"
   ]
  },
  {
   "cell_type": "markdown",
   "metadata": {},
   "source": [
    "![](https://i.imgur.com/GFi5sJZ.png)"
   ]
  },
  {
   "cell_type": "markdown",
   "metadata": {},
   "source": [
    "* LR에서 구하고자 하는 값은 y hat(예측값). 즉, y가 1이 될 확률\n",
    "* LR에는 두 개의 Parameter W와 b 존재. 따라서, 주어진 데이터에서 좋은 결과를 예측하기 위해서는 W와 b를 업데이트 해줘야 함.\n",
    "* w는 x와 같은 차원의 열벡터, b는 상수.\n",
    "* w와 x를 내적(wT.x)하고 b를 더한 값은 0과 1사이의 값이 아닐 수 있음. sigmoid 함수를 사용하여 이 값을 0과 1사이의 값으로 만든다.\n",
    "* igmoid함수는 σ(x)라 쓰고, 식은 위의 사진에 나와 있음. 증가함수이며, (0, 0.5)에 대칭이고, y값은 x가 작아지면 0에 근사하고, 커지면 1에 근사"
   ]
  },
  {
   "cell_type": "code",
   "execution_count": null,
   "metadata": {},
   "outputs": [],
   "source": []
  }
 ],
 "metadata": {
  "kernelspec": {
   "display_name": "Python 3",
   "language": "python",
   "name": "python3"
  },
  "language_info": {
   "codemirror_mode": {
    "name": "ipython",
    "version": 3
   },
   "file_extension": ".py",
   "mimetype": "text/x-python",
   "name": "python",
   "nbconvert_exporter": "python",
   "pygments_lexer": "ipython3",
   "version": "3.8.5"
  }
 },
 "nbformat": 4,
 "nbformat_minor": 4
}
