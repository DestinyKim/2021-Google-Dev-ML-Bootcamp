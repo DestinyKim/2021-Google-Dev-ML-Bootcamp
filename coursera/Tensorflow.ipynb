{
 "cells": [
  {
   "cell_type": "code",
   "execution_count": 1,
   "metadata": {
    "executionInfo": {
     "elapsed": 2542,
     "status": "ok",
     "timestamp": 1629689919301,
     "user": {
      "displayName": "Nameun Kim",
      "photoUrl": "https://lh3.googleusercontent.com/a-/AOh14Gg1z_nO41g88UbevUF_QsRyy00S5BlTgbMVh0FC9Q=s64",
      "userId": "06338012911543066269"
     },
     "user_tz": -540
    },
    "id": "bBnnp5AnFjZQ"
   },
   "outputs": [
    {
     "name": "stderr",
     "output_type": "stream",
     "text": [
      "C:\\Users\\Jongho\\anaconda3\\lib\\site-packages\\numpy\\_distributor_init.py:30: UserWarning: loaded more than 1 DLL from .libs:\n",
      "C:\\Users\\Jongho\\anaconda3\\lib\\site-packages\\numpy\\.libs\\libopenblas.NOIJJG62EMASZI6NYURL6JBKM4EVBGM7.gfortran-win_amd64.dll\n",
      "C:\\Users\\Jongho\\anaconda3\\lib\\site-packages\\numpy\\.libs\\libopenblas.PYQHXLVVQ7VESDPUVUADXEVJOBGHJPAY.gfortran-win_amd64.dll\n",
      "  warnings.warn(\"loaded more than 1 DLL from .libs:\\n%s\" %\n"
     ]
    }
   ],
   "source": [
    "import numpy as np\n",
    "import tensorflow as tf"
   ]
  },
  {
   "cell_type": "code",
   "execution_count": 2,
   "metadata": {
    "colab": {
     "base_uri": "https://localhost:8080/"
    },
    "executionInfo": {
     "elapsed": 614,
     "status": "ok",
     "timestamp": 1629690052312,
     "user": {
      "displayName": "Nameun Kim",
      "photoUrl": "https://lh3.googleusercontent.com/a-/AOh14Gg1z_nO41g88UbevUF_QsRyy00S5BlTgbMVh0FC9Q=s64",
      "userId": "06338012911543066269"
     },
     "user_tz": -540
    },
    "id": "Z5tMDy7wFoVu",
    "outputId": "d1798fcf-b410-433a-b894-f18a840f7430"
   },
   "outputs": [
    {
     "name": "stdout",
     "output_type": "stream",
     "text": [
      "<tf.Variable 'Variable:0' shape=() dtype=float32, numpy=0.0>\n"
     ]
    }
   ],
   "source": [
    "w = tf.Variable(0, dtype = tf.float32)\n",
    "optimizer = tf.keras.optimizers.Adam(0.1)\n",
    "\n",
    "def train_step():\n",
    "  with tf.GradientTape() as tape:\n",
    "    cost = w ** 2 - 10 * w + 25\n",
    "  trainable_variables = [w]\n",
    "  grads = tape.gradient(cost, trainable_variables)\n",
    "  optimizer.apply_gradients(zip(grads, trainable_variables))\n",
    "\n",
    "print(w)"
   ]
  },
  {
   "cell_type": "code",
   "execution_count": 3,
   "metadata": {
    "colab": {
     "base_uri": "https://localhost:8080/"
    },
    "executionInfo": {
     "elapsed": 241,
     "status": "ok",
     "timestamp": 1629690065075,
     "user": {
      "displayName": "Nameun Kim",
      "photoUrl": "https://lh3.googleusercontent.com/a-/AOh14Gg1z_nO41g88UbevUF_QsRyy00S5BlTgbMVh0FC9Q=s64",
      "userId": "06338012911543066269"
     },
     "user_tz": -540
    },
    "id": "Os1vWCVSGLqy",
    "outputId": "364dd4aa-642a-4bd5-984e-824f8ee34764"
   },
   "outputs": [
    {
     "name": "stdout",
     "output_type": "stream",
     "text": [
      "<tf.Variable 'Variable:0' shape=() dtype=float32, numpy=0.09999997>\n"
     ]
    }
   ],
   "source": [
    "train_step()\n",
    "print(w)"
   ]
  },
  {
   "cell_type": "code",
   "execution_count": 4,
   "metadata": {
    "colab": {
     "base_uri": "https://localhost:8080/"
    },
    "executionInfo": {
     "elapsed": 2155,
     "status": "ok",
     "timestamp": 1629690094305,
     "user": {
      "displayName": "Nameun Kim",
      "photoUrl": "https://lh3.googleusercontent.com/a-/AOh14Gg1z_nO41g88UbevUF_QsRyy00S5BlTgbMVh0FC9Q=s64",
      "userId": "06338012911543066269"
     },
     "user_tz": -540
    },
    "id": "57DzhepHGO2x",
    "outputId": "1fc88dda-9fd9-4e6e-a64d-4a588a4c64fe"
   },
   "outputs": [
    {
     "name": "stdout",
     "output_type": "stream",
     "text": [
      "<tf.Variable 'Variable:0' shape=() dtype=float32, numpy=5.000001>\n"
     ]
    }
   ],
   "source": [
    "for i in range(1000):\n",
    "  train_step()\n",
    "print(w)"
   ]
  },
  {
   "cell_type": "code",
   "execution_count": 5,
   "metadata": {
    "colab": {
     "base_uri": "https://localhost:8080/"
    },
    "executionInfo": {
     "elapsed": 2031,
     "status": "ok",
     "timestamp": 1629690591584,
     "user": {
      "displayName": "Nameun Kim",
      "photoUrl": "https://lh3.googleusercontent.com/a-/AOh14Gg1z_nO41g88UbevUF_QsRyy00S5BlTgbMVh0FC9Q=s64",
      "userId": "06338012911543066269"
     },
     "user_tz": -540
    },
    "id": "id3_pX16GVen",
    "outputId": "91f4ed02-10de-45c6-e132-0097ee0cdb7a"
   },
   "outputs": [
    {
     "name": "stdout",
     "output_type": "stream",
     "text": [
      "<tf.Variable 'Variable:0' shape=() dtype=float32, numpy=5.000001>\n"
     ]
    }
   ],
   "source": [
    "w = tf.Variable(0, dtype = tf.float32)\n",
    "x = np.array([1.0, -10.0, 25.0], dtype = np.float32)\n",
    "optimizer = tf.keras.optimizers.Adam(0.1)\n",
    "\n",
    "def training(x, w, optimizer):\n",
    "  def cost_fn():\n",
    "    return x[0] * w **2 + x[1] * w + x[2]\n",
    "\n",
    "  for i in range(1000):\n",
    "    optimizer.minimize(cost_fn, [w])\n",
    "  return w\n",
    "\n",
    "w = training(x, w, optimizer)\n",
    "print(w)\n"
   ]
  },
  {
   "cell_type": "code",
   "execution_count": null,
   "metadata": {
    "id": "zQsD0O__HY6u"
   },
   "outputs": [],
   "source": []
  }
 ],
 "metadata": {
  "colab": {
   "authorship_tag": "ABX9TyMdF1eK5wnPk+u7xE62IR7e",
   "collapsed_sections": [],
   "name": "Tensorflow.ipynb",
   "provenance": []
  },
  "kernelspec": {
   "display_name": "Python 3",
   "language": "python",
   "name": "python3"
  },
  "language_info": {
   "codemirror_mode": {
    "name": "ipython",
    "version": 3
   },
   "file_extension": ".py",
   "mimetype": "text/x-python",
   "name": "python",
   "nbconvert_exporter": "python",
   "pygments_lexer": "ipython3",
   "version": "3.8.11"
  }
 },
 "nbformat": 4,
 "nbformat_minor": 1
}
