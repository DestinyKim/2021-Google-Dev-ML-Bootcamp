{
 "cells": [
  {
   "cell_type": "markdown",
   "metadata": {},
   "source": [
    "## 1.What is neural network?"
   ]
  },
  {
   "cell_type": "markdown",
   "metadata": {},
   "source": [
    "### 1. Single neural network"
   ]
  },
  {
   "cell_type": "markdown",
   "metadata": {},
   "source": [
    "![](https://i.imgur.com/gom63Ra.png)"
   ]
  },
  {
   "cell_type": "markdown",
   "metadata": {},
   "source": [
    "* 입력값 x는 size of house, 출력값 y는 price\n",
    "* 위와 같은 그래프의 형태를 **ReLU 함수**라 지칭\n",
    "* ReLU function이란, 특정 임계치가 오기 전까지는 '0'의 값을 가지다가, 임계치 이후 부터 일정한 기울기로 증가하는 함수. 이는 **신경의 역치와 유사한 특징을 가짐**\n",
    "* 즉, ReLU function을 하나의 단일뉴런 네트워크로 만들어 집값을 예측."
   ]
  },
  {
   "cell_type": "markdown",
   "metadata": {},
   "source": [
    "#### ReLU Function"
   ]
  },
  {
   "cell_type": "markdown",
   "metadata": {},
   "source": [
    "![](https://upload.wikimedia.org/wikipedia/commons/thumb/8/85/ReLU_and_Nonnegative_Soft_Thresholding_Functions.svg/1024px-ReLU_and_Nonnegative_Soft_Thresholding_Functions.svg.png)"
   ]
  },
  {
   "cell_type": "markdown",
   "metadata": {},
   "source": [
    "ReLU 함수는 정류 선형 유닛(Rectified Linear Unit)에 대한 함수.\n",
    "입력값이 0보다 작으면 0으로 출력, 0보다 크면 입력값 그대로 출력하는 유닛이다.\n",
    "그 함수는 다음과 같다."
   ]
  },
  {
   "cell_type": "markdown",
   "metadata": {},
   "source": [
    "![](https://wikimedia.org/api/rest_v1/media/math/render/svg/bb2c32931fad595832c8e66f2f73760ebcbc0096)"
   ]
  },
  {
   "cell_type": "markdown",
   "metadata": {},
   "source": [
    "ex) ReLU {2} = 2 / ReLU {-15} = 0\n",
    "\n",
    "ref) https://ko.wikipedia.org/wiki/ReLU"
   ]
  },
  {
   "cell_type": "markdown",
   "metadata": {},
   "source": [
    "### 2. Multiple neural network"
   ]
  },
  {
   "cell_type": "markdown",
   "metadata": {},
   "source": [
    "![](https://i.imgur.com/CLXhOJH.png)"
   ]
  },
  {
   "cell_type": "markdown",
   "metadata": {},
   "source": [
    "현실 세계에서는 집값에 영향을 주는 다양한 요소가 존재함. (위의 그림에서는 크기, 침실의 수, 우편번호, 재산 등등)\n",
    "따라서, 우리는 Multifple Neural Network를 설계 할 수 있음."
   ]
  },
  {
   "cell_type": "markdown",
   "metadata": {},
   "source": [
    "![](https://i.imgur.com/kR5CgnE.png)"
   ]
  },
  {
   "cell_type": "markdown",
   "metadata": {},
   "source": [
    "* Input Layer와 Output Layer를 제외한 Layer를 Hidden Layer라고 함.\n",
    "* Neural Network에 input(x)와 output(y)를 주어서 Hidden Unit들을 만들고 학습\n",
    "* 각 Hidden Layer들은 모든 Input Layer의 입력값을 전달 받고, 여기서 전달 받은 Input Layer에 따른 결과값을 내보낸다.\n",
    "\n",
    "#### What is Deep Learning?\n",
    "    - Deep은 Hidden Layer의 수가 많은 것을 뜻함\n",
    "    - 따라서, Deep Learning은 매우 많은 Layer을 가지는 Neural Network를 학습시키는 것을 의미"
   ]
  },
  {
   "cell_type": "markdown",
   "metadata": {},
   "source": [
    "## 2. Supervised learning for Neural Network?"
   ]
  },
  {
   "cell_type": "markdown",
   "metadata": {},
   "source": [
    "### 1. Supervised learning?"
   ]
  },
  {
   "cell_type": "markdown",
   "metadata": {},
   "source": [
    "- Supervised learning(지도학습)이란, 우리가 이미 정답을 알고 있는 항목에 대해, 연관성 있을 것으로 추정되는 데이터들을 가지고 학습하는 것\n",
    "- 지도학습에서 우리는 Input set을 가지고 있으며, 해당 Input에 대한 정답인 Output set을 가지고 있어야 함. 즉, Paired Data를 가지고 있어야 한다."
   ]
  },
  {
   "cell_type": "markdown",
   "metadata": {},
   "source": [
    "### 2. Supervised learning problems"
   ]
  },
  {
   "cell_type": "markdown",
   "metadata": {},
   "source": [
    "- 지도학습은 'Regression(회귀)' 또는 'Classification(분류)'로 구분할 수 있음.\n",
    "    * Regression(회귀)\n",
    "     - 우리는 연속된 출력에 대해 올바른 정답을 추정하게 된다. 즉, 입력된 변수들을 특정 연속함수(continuous function)에 매핑하려는 노력을 하게 됨.\n",
    "     \n",
    "    * Classification(분류)\n",
    "      - 우리는 직접적으로 정확한 추정치를 만드는 대신, 이산적인 출력에서의 정답을 알아보고자 한다. 즉, 결과가 어느 분류에 속하게 되는지를 매핑하게 됨."
   ]
  },
  {
   "cell_type": "markdown",
   "metadata": {},
   "source": [
    "![](https://i.imgur.com/B7WcXlD.png)"
   ]
  },
  {
   "cell_type": "markdown",
   "metadata": {},
   "source": [
    "* CNN(Convolutional neural network, 합성곱 신경망) - 이미지 프로세싱 등을 위해 사용\n",
    "* RNN(Recurrent neural network, 순환 신경망) - 1차원 시퀀스 데이터(번역 등)에 사용\n",
    "* Hybrid Neural Network - 자율주행 등에 사용"
   ]
  },
  {
   "cell_type": "markdown",
   "metadata": {},
   "source": [
    "![](https://i.imgur.com/y0IGWuG.png)"
   ]
  },
  {
   "cell_type": "markdown",
   "metadata": {},
   "source": [
    "### 3. Structured vs Unstructured dats"
   ]
  },
  {
   "cell_type": "markdown",
   "metadata": {},
   "source": [
    "![](https://i.imgur.com/oLDi1Kg.png)"
   ]
  },
  {
   "cell_type": "markdown",
   "metadata": {},
   "source": [
    "* Structured data(정형화 데이터)\n",
    "    - 기본적으로 구조화된 데이터 즉, 데이터베이스화 된 데이터 등을 의미\n",
    "    - 예를 들어, 집의 가격을 추정할 때, 침실의 갯수, 집의 크기 등을 가지고 있는 컬럼 / 사용자가 광고를 클릭할지 예측하는 데이터 셋에서는 유저의 나이 또는 성별, 광고의 ID등의 정보\n",
    "\n",
    "* Unstructured data(비정형화 데이터)\n",
    "    - 오디오 또는 이미지와 같이 정리되지 않은 데이터\n",
    "    - 따라서, 오디오 데이터의 각 정보 또는 이미지 데이터의 픽셀값 등을 예로 들 수 있음.\n"
   ]
  },
  {
   "cell_type": "markdown",
   "metadata": {},
   "source": [
    "## 3. Why is Deep Learning taking off?"
   ]
  },
  {
   "cell_type": "markdown",
   "metadata": {},
   "source": [
    "### Deep Learning이 최근에 급부상한 이유?\n",
    "* 디지털화로 인한 매우 방대한 양의 데이터 축적\n",
    "* 컴퓨팅 파워가 향상\n",
    "    - 기존에는 SVM 등 방식에 비해 너무 오랜 시간이 걸리던 뉴런 네트워크를 빠른 시간내에 처리가 가능해짐.\n",
    "    - 멀티 프로세싱 기술 발전에 따라 동시에 병렬적으로 많은 연산을 하는 뉴런 네트워크에 유리해짐.\n",
    "* Neural Network Algorithm의 혁신\n",
    "    - 기존에는 Sigmoid를 사용하면서 1개 이상의 Hidden Layer를 넣기 힘들었으나, ReLU를 사용하면서, 여러 Hidden Layer를 넣었을 때에도 모델 예측이 가능해짐."
   ]
  },
  {
   "cell_type": "markdown",
   "metadata": {},
   "source": [
    "### 그럼 왜 NN(Neural Networt)를 사용해야 하나?"
   ]
  },
  {
   "cell_type": "markdown",
   "metadata": {},
   "source": [
    "- 기존의 전통적인 알고리즘(SVM, Logistic Regression 등)은 데이터양이 일정 수준 이상이면 효과가 별로 향상되지 않았다. "
   ]
  }
 ],
 "metadata": {
  "kernelspec": {
   "display_name": "Python 3",
   "language": "python",
   "name": "python3"
  },
  "language_info": {
   "codemirror_mode": {
    "name": "ipython",
    "version": 3
   },
   "file_extension": ".py",
   "mimetype": "text/x-python",
   "name": "python",
   "nbconvert_exporter": "python",
   "pygments_lexer": "ipython3",
   "version": "3.8.5"
  }
 },
 "nbformat": 4,
 "nbformat_minor": 4
}
