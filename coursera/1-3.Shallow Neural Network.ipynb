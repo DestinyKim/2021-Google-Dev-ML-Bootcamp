{
 "cells": [
  {
   "cell_type": "markdown",
   "id": "6f6702e3",
   "metadata": {},
   "source": [
    "## 1. Neural Networks Overview"
   ]
  },
  {
   "cell_type": "markdown",
   "id": "34b481e2",
   "metadata": {},
   "source": [
    "![](https://i.imgur.com/fTzSvoh.png)"
   ]
  },
  {
   "cell_type": "markdown",
   "id": "597a6036",
   "metadata": {},
   "source": [
    "* LR(Logistic Regression)과의 차이 파악\n",
    "* 딥러닝 정의 : 은닉층이 2개 이상일 경우에는 딥러닝이라고 함.\n",
    "* 딥러닝 특징1\n",
    "    - 노드들이 정확히 무엇을 추출하는지는 알 수 없음\n",
    "    - 각각의 노드가 정확히 무엇을 계산하는지 알 수 없음.\n",
    "    - 기계가 알아서 학습, 고수준의 학습 성능을 갖추고, 높은 결과를 예상\n",
    "    - 피쳐 엔지니어링이 필요 없음."
   ]
  },
  {
   "cell_type": "markdown",
   "id": "9d14fe27",
   "metadata": {},
   "source": [
    "## 2. Neural Networks Representation"
   ]
  },
  {
   "cell_type": "markdown",
   "id": "d79b92df",
   "metadata": {},
   "source": [
    "![](https://i.imgur.com/wt08cUd.png)"
   ]
  },
  {
   "cell_type": "markdown",
   "id": "26c08454",
   "metadata": {},
   "source": [
    "여기서 [i]의 표기는 i번째 layer라는 의미.\n",
    "dw와 같은 표기는 loss함수를 w로 미분한 것."
   ]
  },
  {
   "cell_type": "code",
   "execution_count": null,
   "id": "97ce3b8d",
   "metadata": {},
   "outputs": [],
   "source": []
  },
  {
   "cell_type": "code",
   "execution_count": null,
   "id": "70804113",
   "metadata": {},
   "outputs": [],
   "source": []
  },
  {
   "cell_type": "code",
   "execution_count": null,
   "id": "cb8b7b36",
   "metadata": {},
   "outputs": [],
   "source": []
  },
  {
   "cell_type": "code",
   "execution_count": null,
   "id": "0ab8fd6b",
   "metadata": {},
   "outputs": [],
   "source": []
  },
  {
   "cell_type": "code",
   "execution_count": null,
   "id": "a52f1e7e",
   "metadata": {},
   "outputs": [],
   "source": []
  },
  {
   "cell_type": "code",
   "execution_count": null,
   "id": "ec7bf4ad",
   "metadata": {},
   "outputs": [],
   "source": []
  },
  {
   "cell_type": "code",
   "execution_count": null,
   "id": "ad62c7ed",
   "metadata": {},
   "outputs": [],
   "source": []
  },
  {
   "cell_type": "markdown",
   "id": "8ffcde92",
   "metadata": {},
   "source": [
    "## 3. Computing a Neural Network's Output"
   ]
  },
  {
   "cell_type": "code",
   "execution_count": null,
   "id": "dc2487c7",
   "metadata": {},
   "outputs": [],
   "source": []
  },
  {
   "cell_type": "code",
   "execution_count": null,
   "id": "53910b26",
   "metadata": {},
   "outputs": [],
   "source": []
  },
  {
   "cell_type": "code",
   "execution_count": null,
   "id": "71f2fae8",
   "metadata": {},
   "outputs": [],
   "source": []
  },
  {
   "cell_type": "code",
   "execution_count": null,
   "id": "82a669e5",
   "metadata": {},
   "outputs": [],
   "source": []
  },
  {
   "cell_type": "code",
   "execution_count": null,
   "id": "21bfe59a",
   "metadata": {},
   "outputs": [],
   "source": []
  },
  {
   "cell_type": "markdown",
   "id": "500a0cf5",
   "metadata": {},
   "source": [
    "## 4. Vectorizing Across Multiple Examples"
   ]
  },
  {
   "cell_type": "code",
   "execution_count": null,
   "id": "178278e5",
   "metadata": {},
   "outputs": [],
   "source": []
  },
  {
   "cell_type": "code",
   "execution_count": null,
   "id": "4f6b31ce",
   "metadata": {},
   "outputs": [],
   "source": []
  },
  {
   "cell_type": "code",
   "execution_count": null,
   "id": "05822ec6",
   "metadata": {},
   "outputs": [],
   "source": []
  },
  {
   "cell_type": "code",
   "execution_count": null,
   "id": "fd025dcb",
   "metadata": {},
   "outputs": [],
   "source": []
  },
  {
   "cell_type": "code",
   "execution_count": null,
   "id": "4c0e66a0",
   "metadata": {},
   "outputs": [],
   "source": []
  },
  {
   "cell_type": "markdown",
   "id": "49b9d227",
   "metadata": {},
   "source": [
    "## 5. Explanation for Vectorized Implementation"
   ]
  },
  {
   "cell_type": "code",
   "execution_count": null,
   "id": "e6d6eff3",
   "metadata": {},
   "outputs": [],
   "source": []
  },
  {
   "cell_type": "code",
   "execution_count": null,
   "id": "6e03ad2b",
   "metadata": {},
   "outputs": [],
   "source": []
  },
  {
   "cell_type": "code",
   "execution_count": null,
   "id": "74b914e2",
   "metadata": {},
   "outputs": [],
   "source": []
  },
  {
   "cell_type": "code",
   "execution_count": null,
   "id": "639c5692",
   "metadata": {},
   "outputs": [],
   "source": []
  },
  {
   "cell_type": "markdown",
   "id": "73fec656",
   "metadata": {},
   "source": [
    "## 6. Activation Functions"
   ]
  },
  {
   "cell_type": "code",
   "execution_count": null,
   "id": "114b5faa",
   "metadata": {},
   "outputs": [],
   "source": []
  },
  {
   "cell_type": "code",
   "execution_count": null,
   "id": "e4b60072",
   "metadata": {},
   "outputs": [],
   "source": []
  },
  {
   "cell_type": "code",
   "execution_count": null,
   "id": "fdcaccaf",
   "metadata": {},
   "outputs": [],
   "source": []
  },
  {
   "cell_type": "markdown",
   "id": "4ea356e1",
   "metadata": {},
   "source": [
    "## 7. Why do you need Non-Linear Activation Functions?"
   ]
  },
  {
   "cell_type": "code",
   "execution_count": null,
   "id": "30592012",
   "metadata": {},
   "outputs": [],
   "source": []
  },
  {
   "cell_type": "code",
   "execution_count": null,
   "id": "c69362ac",
   "metadata": {},
   "outputs": [],
   "source": []
  },
  {
   "cell_type": "code",
   "execution_count": null,
   "id": "9a14f9a4",
   "metadata": {},
   "outputs": [],
   "source": []
  },
  {
   "cell_type": "code",
   "execution_count": null,
   "id": "de08268a",
   "metadata": {},
   "outputs": [],
   "source": []
  },
  {
   "cell_type": "markdown",
   "id": "0c21c579",
   "metadata": {},
   "source": [
    "## 8. Derivatives of Activation Functions"
   ]
  },
  {
   "cell_type": "code",
   "execution_count": null,
   "id": "b7656727",
   "metadata": {},
   "outputs": [],
   "source": []
  },
  {
   "cell_type": "code",
   "execution_count": null,
   "id": "f0e1fff0",
   "metadata": {},
   "outputs": [],
   "source": []
  },
  {
   "cell_type": "code",
   "execution_count": null,
   "id": "ae38f5f0",
   "metadata": {},
   "outputs": [],
   "source": []
  },
  {
   "cell_type": "markdown",
   "id": "04e7a5b3",
   "metadata": {},
   "source": [
    "## 9. Gradient Descent for Neural Networks"
   ]
  },
  {
   "cell_type": "code",
   "execution_count": null,
   "id": "38f464b0",
   "metadata": {},
   "outputs": [],
   "source": []
  },
  {
   "cell_type": "code",
   "execution_count": null,
   "id": "be034dc5",
   "metadata": {},
   "outputs": [],
   "source": []
  },
  {
   "cell_type": "code",
   "execution_count": null,
   "id": "9d45b3b6",
   "metadata": {},
   "outputs": [],
   "source": []
  },
  {
   "cell_type": "code",
   "execution_count": null,
   "id": "a217d1ba",
   "metadata": {},
   "outputs": [],
   "source": []
  },
  {
   "cell_type": "markdown",
   "id": "d44c394c",
   "metadata": {},
   "source": [
    "## 10. Backpropagation Intuition (Optional)"
   ]
  },
  {
   "cell_type": "code",
   "execution_count": null,
   "id": "e27b8c65",
   "metadata": {},
   "outputs": [],
   "source": []
  },
  {
   "cell_type": "code",
   "execution_count": null,
   "id": "0dbf4b15",
   "metadata": {},
   "outputs": [],
   "source": []
  },
  {
   "cell_type": "code",
   "execution_count": null,
   "id": "9fd8ae7d",
   "metadata": {},
   "outputs": [],
   "source": []
  },
  {
   "cell_type": "code",
   "execution_count": null,
   "id": "cd721f9d",
   "metadata": {},
   "outputs": [],
   "source": []
  },
  {
   "cell_type": "markdown",
   "id": "f58167f8",
   "metadata": {},
   "source": [
    "## 11. Random Initialization"
   ]
  },
  {
   "cell_type": "code",
   "execution_count": null,
   "id": "7dd560be",
   "metadata": {},
   "outputs": [],
   "source": []
  },
  {
   "cell_type": "code",
   "execution_count": null,
   "id": "bde110e6",
   "metadata": {},
   "outputs": [],
   "source": []
  },
  {
   "cell_type": "code",
   "execution_count": null,
   "id": "8b7b9b8e",
   "metadata": {},
   "outputs": [],
   "source": []
  },
  {
   "cell_type": "code",
   "execution_count": null,
   "id": "feb6d857",
   "metadata": {},
   "outputs": [],
   "source": []
  },
  {
   "cell_type": "code",
   "execution_count": null,
   "id": "86fc5305",
   "metadata": {},
   "outputs": [],
   "source": []
  },
  {
   "cell_type": "markdown",
   "id": "d282c52f",
   "metadata": {},
   "source": [
    "* [참고] https://velog.io/@jinseock95/CourseraDeep-Learning-Specialization1st-Neural-Networks-and-Deep-Learning-Shallow-neural-networks\n",
    "* [참고] https://blog.naver.com/ehdsnck/221763484664\n",
    "* [참고]https://deep-learning-basic.readthedocs.io/ko/latest/Neural%20Networks%20and%20Deep%20Learning/3.%20Shallow%20Neural%20Network/"
   ]
  },
  {
   "cell_type": "code",
   "execution_count": null,
   "id": "fde2abba",
   "metadata": {},
   "outputs": [],
   "source": []
  }
 ],
 "metadata": {
  "kernelspec": {
   "display_name": "Python 3",
   "language": "python",
   "name": "python3"
  },
  "language_info": {
   "codemirror_mode": {
    "name": "ipython",
    "version": 3
   },
   "file_extension": ".py",
   "mimetype": "text/x-python",
   "name": "python",
   "nbconvert_exporter": "python",
   "pygments_lexer": "ipython3",
   "version": "3.8.11"
  }
 },
 "nbformat": 4,
 "nbformat_minor": 5
}
