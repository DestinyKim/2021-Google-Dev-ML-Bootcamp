{
 "cells": [
  {
   "cell_type": "markdown",
   "id": "6f6702e3",
   "metadata": {},
   "source": [
    "## 1. Neural Networks Overview"
   ]
  },
  {
   "cell_type": "markdown",
   "id": "1a9d8978",
   "metadata": {},
   "source": [
    "![](https://i.imgur.com/fTzSvoh.png)"
   ]
  },
  {
   "cell_type": "markdown",
   "id": "f7d45462",
   "metadata": {},
   "source": [
    "* LR(Logistic Regression)과의 차이 파악\n",
    "* 딥러닝 정의 : 은닉층이 2개 이상일 경우에는 딥러닝이라고 함.\n",
    "* 딥러닝 특징1\n",
    "    - 노드들이 정확히 무엇을 추출하는지는 알 수 없음\n",
    "    - 각각의 노드가 정확히 무엇을 계산하는지 알 수 없음.\n",
    "    - 기계가 알아서 학습, 고수준의 학습 성능을 갖추고, 높은 결과를 예상\n",
    "    - 피쳐 엔지니어링이 필요 없음."
   ]
  },
  {
   "cell_type": "markdown",
   "id": "15d72aba",
   "metadata": {},
   "source": [
    "## 2. Neural Networks Representation"
   ]
  },
  {
   "cell_type": "markdown",
   "id": "98da83d6",
   "metadata": {},
   "source": [
    "![](https://i.imgur.com/wt08cUd.png)"
   ]
  },
  {
   "cell_type": "markdown",
   "id": "bc469ef6",
   "metadata": {},
   "source": [
    "여기서 [i]의 표기는 i번째 layer라는 의미.\n",
    "dw와 같은 표기는 loss함수를 w로 미분한 것."
   ]
  },
  {
   "cell_type": "code",
   "execution_count": null,
   "id": "976ae26b",
   "metadata": {},
   "outputs": [],
   "source": []
  },
  {
   "cell_type": "code",
   "execution_count": null,
   "id": "5c802e07",
   "metadata": {},
   "outputs": [],
   "source": []
  },
  {
   "cell_type": "code",
   "execution_count": null,
   "id": "25dd09cf",
   "metadata": {},
   "outputs": [],
   "source": []
  },
  {
   "cell_type": "code",
   "execution_count": null,
   "id": "44643386",
   "metadata": {},
   "outputs": [],
   "source": []
  },
  {
   "cell_type": "code",
   "execution_count": null,
   "id": "a522d61d",
   "metadata": {},
   "outputs": [],
   "source": []
  },
  {
   "cell_type": "code",
   "execution_count": null,
   "id": "8d1f7f5c",
   "metadata": {},
   "outputs": [],
   "source": []
  },
  {
   "cell_type": "code",
   "execution_count": null,
   "id": "2ed5ef3a",
   "metadata": {},
   "outputs": [],
   "source": []
  },
  {
   "cell_type": "markdown",
   "id": "e69adfc0",
   "metadata": {},
   "source": [
    "## 3. Computing a Neural Network's Output"
   ]
  },
  {
   "cell_type": "code",
   "execution_count": null,
   "id": "e1c7283f",
   "metadata": {},
   "outputs": [],
   "source": []
  },
  {
   "cell_type": "code",
   "execution_count": null,
   "id": "b88f4da7",
   "metadata": {},
   "outputs": [],
   "source": []
  },
  {
   "cell_type": "code",
   "execution_count": null,
   "id": "ab869938",
   "metadata": {},
   "outputs": [],
   "source": []
  },
  {
   "cell_type": "code",
   "execution_count": null,
   "id": "055789cf",
   "metadata": {},
   "outputs": [],
   "source": []
  },
  {
   "cell_type": "code",
   "execution_count": null,
   "id": "84acc057",
   "metadata": {},
   "outputs": [],
   "source": []
  },
  {
   "cell_type": "markdown",
   "id": "070a4431",
   "metadata": {},
   "source": [
    "## 4. Vectorizing Across Multiple Examples"
   ]
  },
  {
   "cell_type": "code",
   "execution_count": null,
   "id": "949d1451",
   "metadata": {},
   "outputs": [],
   "source": []
  },
  {
   "cell_type": "code",
   "execution_count": null,
   "id": "c587cd24",
   "metadata": {},
   "outputs": [],
   "source": []
  },
  {
   "cell_type": "code",
   "execution_count": null,
   "id": "d76473cd",
   "metadata": {},
   "outputs": [],
   "source": []
  },
  {
   "cell_type": "code",
   "execution_count": null,
   "id": "96657f66",
   "metadata": {},
   "outputs": [],
   "source": []
  },
  {
   "cell_type": "code",
   "execution_count": null,
   "id": "a1a3f4f0",
   "metadata": {},
   "outputs": [],
   "source": []
  },
  {
   "cell_type": "markdown",
   "id": "8d87d915",
   "metadata": {},
   "source": [
    "## 5. Explanation for Vectorized Implementation"
   ]
  },
  {
   "cell_type": "code",
   "execution_count": null,
   "id": "2724b6f9",
   "metadata": {},
   "outputs": [],
   "source": []
  },
  {
   "cell_type": "code",
   "execution_count": null,
   "id": "5c4d4011",
   "metadata": {},
   "outputs": [],
   "source": []
  },
  {
   "cell_type": "code",
   "execution_count": null,
   "id": "69430d21",
   "metadata": {},
   "outputs": [],
   "source": []
  },
  {
   "cell_type": "code",
   "execution_count": null,
   "id": "6f788e63",
   "metadata": {},
   "outputs": [],
   "source": []
  },
  {
   "cell_type": "markdown",
   "id": "e74540ee",
   "metadata": {},
   "source": [
    "## 6. Activation Functions"
   ]
  },
  {
   "cell_type": "code",
   "execution_count": null,
   "id": "2e276e10",
   "metadata": {},
   "outputs": [],
   "source": []
  },
  {
   "cell_type": "code",
   "execution_count": null,
   "id": "f0ae2f5a",
   "metadata": {},
   "outputs": [],
   "source": []
  },
  {
   "cell_type": "code",
   "execution_count": null,
   "id": "21416359",
   "metadata": {},
   "outputs": [],
   "source": []
  },
  {
   "cell_type": "markdown",
   "id": "123ba8a6",
   "metadata": {},
   "source": [
    "## 7. Why do you need Non-Linear Activation Functions?"
   ]
  },
  {
   "cell_type": "code",
   "execution_count": null,
   "id": "9706549b",
   "metadata": {},
   "outputs": [],
   "source": []
  },
  {
   "cell_type": "code",
   "execution_count": null,
   "id": "6353f785",
   "metadata": {},
   "outputs": [],
   "source": []
  },
  {
   "cell_type": "code",
   "execution_count": null,
   "id": "466d5be3",
   "metadata": {},
   "outputs": [],
   "source": []
  },
  {
   "cell_type": "code",
   "execution_count": null,
   "id": "27e7d8c3",
   "metadata": {},
   "outputs": [],
   "source": []
  },
  {
   "cell_type": "markdown",
   "id": "9a0df2d8",
   "metadata": {},
   "source": [
    "## 8. Derivatives of Activation Functions"
   ]
  },
  {
   "cell_type": "code",
   "execution_count": null,
   "id": "96fcd32b",
   "metadata": {},
   "outputs": [],
   "source": []
  },
  {
   "cell_type": "code",
   "execution_count": null,
   "id": "f39f2987",
   "metadata": {},
   "outputs": [],
   "source": []
  },
  {
   "cell_type": "code",
   "execution_count": null,
   "id": "90726178",
   "metadata": {},
   "outputs": [],
   "source": []
  },
  {
   "cell_type": "markdown",
   "id": "902f6396",
   "metadata": {},
   "source": [
    "## 9. Gradient Descent for Neural Networks"
   ]
  },
  {
   "cell_type": "code",
   "execution_count": null,
   "id": "a3d226dd",
   "metadata": {},
   "outputs": [],
   "source": []
  },
  {
   "cell_type": "code",
   "execution_count": null,
   "id": "fa6ba4cb",
   "metadata": {},
   "outputs": [],
   "source": []
  },
  {
   "cell_type": "code",
   "execution_count": null,
   "id": "151394b6",
   "metadata": {},
   "outputs": [],
   "source": []
  },
  {
   "cell_type": "code",
   "execution_count": null,
   "id": "ef43150b",
   "metadata": {},
   "outputs": [],
   "source": []
  },
  {
   "cell_type": "markdown",
   "id": "038a47af",
   "metadata": {},
   "source": [
    "## 10. Backpropagation Intuition (Optional)"
   ]
  },
  {
   "cell_type": "code",
   "execution_count": null,
   "id": "4e2353ba",
   "metadata": {},
   "outputs": [],
   "source": []
  },
  {
   "cell_type": "code",
   "execution_count": null,
   "id": "e54cd16c",
   "metadata": {},
   "outputs": [],
   "source": []
  },
  {
   "cell_type": "code",
   "execution_count": null,
   "id": "58a26ef7",
   "metadata": {},
   "outputs": [],
   "source": []
  },
  {
   "cell_type": "code",
   "execution_count": null,
   "id": "db45c72f",
   "metadata": {},
   "outputs": [],
   "source": []
  },
  {
   "cell_type": "markdown",
   "id": "cc3ff254",
   "metadata": {},
   "source": [
    "## 11. Random Initialization"
   ]
  },
  {
   "cell_type": "code",
   "execution_count": null,
   "id": "1a0e3d07",
   "metadata": {},
   "outputs": [],
   "source": []
  },
  {
   "cell_type": "code",
   "execution_count": null,
   "id": "b8f6d609",
   "metadata": {},
   "outputs": [],
   "source": []
  },
  {
   "cell_type": "code",
   "execution_count": null,
   "id": "bf57a593",
   "metadata": {},
   "outputs": [],
   "source": []
  },
  {
   "cell_type": "code",
   "execution_count": null,
   "id": "a87e8124",
   "metadata": {},
   "outputs": [],
   "source": []
  },
  {
   "cell_type": "code",
   "execution_count": null,
   "id": "1b457936",
   "metadata": {},
   "outputs": [],
   "source": []
  },
  {
   "cell_type": "markdown",
   "id": "c187ef17",
   "metadata": {},
   "source": [
    "* [참고] https://velog.io/@jinseock95/CourseraDeep-Learning-Specialization1st-Neural-Networks-and-Deep-Learning-Shallow-neural-networks\n",
    "* [참고] https://blog.naver.com/ehdsnck/221763484664\n",
    "* [참고]https://deep-learning-basic.readthedocs.io/ko/latest/Neural%20Networks%20and%20Deep%20Learning/3.%20Shallow%20Neural%20Network/"
   ]
  }
 ],
 "metadata": {
  "kernelspec": {
   "display_name": "Python 3",
   "language": "python",
   "name": "python3"
  },
  "language_info": {
   "codemirror_mode": {
    "name": "ipython",
    "version": 3
   },
   "file_extension": ".py",
   "mimetype": "text/x-python",
   "name": "python",
   "nbconvert_exporter": "python",
   "pygments_lexer": "ipython3",
   "version": "3.8.11"
  }
 },
 "nbformat": 4,
 "nbformat_minor": 5
}
